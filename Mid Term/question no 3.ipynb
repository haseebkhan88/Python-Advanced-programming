{
 "cells": [
  {
   "cell_type": "code",
   "execution_count": 6,
   "id": "39141928",
   "metadata": {},
   "outputs": [
    {
     "name": "stdout",
     "output_type": "stream",
     "text": [
      "Enter any number5\n",
      "120\n"
     ]
    }
   ],
   "source": [
    "def exp(x):\n",
    "    if (x==1):\n",
    "        return x\n",
    "    return x * exp (x-1)\n",
    "print(exp(int(input('Enter any number'))))"
   ]
  },
  {
   "cell_type": "code",
   "execution_count": null,
   "id": "36f37dc2",
   "metadata": {},
   "outputs": [],
   "source": []
  }
 ],
 "metadata": {
  "kernelspec": {
   "display_name": "Python 3",
   "language": "python",
   "name": "python3"
  },
  "language_info": {
   "codemirror_mode": {
    "name": "ipython",
    "version": 3
   },
   "file_extension": ".py",
   "mimetype": "text/x-python",
   "name": "python",
   "nbconvert_exporter": "python",
   "pygments_lexer": "ipython3",
   "version": "3.8.8"
  }
 },
 "nbformat": 4,
 "nbformat_minor": 5
}
