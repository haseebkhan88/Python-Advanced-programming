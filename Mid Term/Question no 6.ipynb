{
 "cells": [
  {
   "cell_type": "code",
   "execution_count": 7,
   "id": "fc700b4f",
   "metadata": {},
   "outputs": [
    {
     "name": "stdout",
     "output_type": "stream",
     "text": [
      "Enter a number :1\n",
      "Enter a number :2\n",
      "Enter a number :3\n",
      "Enter a number :4\n",
      "[4, 3, 2, 1]\n"
     ]
    }
   ],
   "source": [
    "f =[]\n",
    "for i in range(4):\n",
    "    inp = int(input('Enter a number :'))\n",
    "    f.append(inp)\n",
    "print(f[::-1])"
   ]
  },
  {
   "cell_type": "markdown",
   "id": "3ba2a894",
   "metadata": {},
   "source": []
  }
 ],
 "metadata": {
  "kernelspec": {
   "display_name": "Python 3",
   "language": "python",
   "name": "python3"
  },
  "language_info": {
   "codemirror_mode": {
    "name": "ipython",
    "version": 3
   },
   "file_extension": ".py",
   "mimetype": "text/x-python",
   "name": "python",
   "nbconvert_exporter": "python",
   "pygments_lexer": "ipython3",
   "version": "3.8.8"
  }
 },
 "nbformat": 4,
 "nbformat_minor": 5
}
