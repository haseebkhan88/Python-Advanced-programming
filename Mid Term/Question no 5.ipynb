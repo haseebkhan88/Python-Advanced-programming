{
 "cells": [
  {
   "cell_type": "code",
   "execution_count": 1,
   "id": "efc45c22",
   "metadata": {},
   "outputs": [],
   "source": [
    "arr = [[2, 11, 7, 12], [5, 2, 9, 15], [8, 3, 10, 42]]"
   ]
  },
  {
   "cell_type": "code",
   "execution_count": 2,
   "id": "e4fa3caf",
   "metadata": {},
   "outputs": [
    {
     "name": "stdout",
     "output_type": "stream",
     "text": [
      "sum of the row 1 =  32\n"
     ]
    }
   ],
   "source": [
    "print('sum of the row 1 = ', sum(arr[:][0]))"
   ]
  },
  {
   "cell_type": "code",
   "execution_count": 3,
   "id": "d7f7fe20",
   "metadata": {},
   "outputs": [
    {
     "name": "stdout",
     "output_type": "stream",
     "text": [
      "sum of the row 1 =  31\n"
     ]
    }
   ],
   "source": [
    "print('sum of the row 2 = ', sum(arr[:][1]))"
   ]
  },
  {
   "cell_type": "code",
   "execution_count": 4,
   "id": "9d23336f",
   "metadata": {},
   "outputs": [
    {
     "name": "stdout",
     "output_type": "stream",
     "text": [
      "sum of the row 1 =  63\n"
     ]
    }
   ],
   "source": [
    "print('sum of the row 3 = ', sum(arr[:][2]))"
   ]
  },
  {
   "cell_type": "code",
   "execution_count": null,
   "id": "fcf6dea2",
   "metadata": {},
   "outputs": [],
   "source": []
  }
 ],
 "metadata": {
  "kernelspec": {
   "display_name": "Python 3",
   "language": "python",
   "name": "python3"
  },
  "language_info": {
   "codemirror_mode": {
    "name": "ipython",
    "version": 3
   },
   "file_extension": ".py",
   "mimetype": "text/x-python",
   "name": "python",
   "nbconvert_exporter": "python",
   "pygments_lexer": "ipython3",
   "version": "3.8.8"
  }
 },
 "nbformat": 4,
 "nbformat_minor": 5
}
