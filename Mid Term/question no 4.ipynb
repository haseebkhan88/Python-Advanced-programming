{
 "cells": [
  {
   "cell_type": "markdown",
   "id": "78e7d5c5",
   "metadata": {},
   "source": [
    "### Vowel and Consonent\n"
   ]
  },
  {
   "cell_type": "code",
   "execution_count": 13,
   "id": "2b26ba82",
   "metadata": {},
   "outputs": [
    {
     "name": "stdout",
     "output_type": "stream",
     "text": [
      "enter any string :e\n",
      "e this string is a vowel\n"
     ]
    }
   ],
   "source": [
    "x = input ('enter any string :')\n",
    "if (x =='A' or x =='a' or x =='E' or x =='e' or x =='i' or x =='I' or x =='O' or x =='o'  or x =='U' or x =='u'):\n",
    "    print (x , 'this string is a vowel')\n",
    "else:\n",
    "    \n",
    "    print(x , 'this string is a consonent')"
   ]
  },
  {
   "cell_type": "code",
   "execution_count": null,
   "id": "2bd284fb",
   "metadata": {},
   "outputs": [],
   "source": []
  }
 ],
 "metadata": {
  "kernelspec": {
   "display_name": "Python 3",
   "language": "python",
   "name": "python3"
  },
  "language_info": {
   "codemirror_mode": {
    "name": "ipython",
    "version": 3
   },
   "file_extension": ".py",
   "mimetype": "text/x-python",
   "name": "python",
   "nbconvert_exporter": "python",
   "pygments_lexer": "ipython3",
   "version": "3.8.8"
  }
 },
 "nbformat": 4,
 "nbformat_minor": 5
}
