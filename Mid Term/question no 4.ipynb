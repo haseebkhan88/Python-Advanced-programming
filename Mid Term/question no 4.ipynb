{
 "cells": [
  {
   "cell_type": "code",
   "execution_count": 1,
   "id": "a24de74c",
   "metadata": {},
   "outputs": [
    {
     "ename": "SyntaxError",
     "evalue": "invalid syntax (<ipython-input-1-b35dcf2bc069>, line 2)",
     "output_type": "error",
     "traceback": [
      "\u001b[1;36m  File \u001b[1;32m\"<ipython-input-1-b35dcf2bc069>\"\u001b[1;36m, line \u001b[1;32m2\u001b[0m\n\u001b[1;33m    if (x =='A' or x =='a' or x =='E' or x =='E' or x =='e' or x =='e' or x =='i' or x =='i' or x =='I' or x =='I' or x =='O' or x =='O' or x =='o' or x =='o'  or x =='U' or x =='U' or x =='u' or x =='u')\u001b[0m\n\u001b[1;37m                                                                                                                                                                                                            ^\u001b[0m\n\u001b[1;31mSyntaxError\u001b[0m\u001b[1;31m:\u001b[0m invalid syntax\n"
     ]
    }
   ],
   "source": [
    "x = input ('enter any string :')\n",
    "if (x =='A' or x =='a' or x =='E' or x =='E' or x =='e' or x =='e' or x =='i' or x =='i' or x =='I' or x =='I' or x =='O' or x =='O' or x =='o' or x =='o'  or x =='U' or x =='U' or x =='u' or x =='u')\n",
    "    print (x , 'this string is a vowel')\n",
    "else:\n",
    "    print(x , 'this string is a consonent')"
   ]
  },
  {
   "cell_type": "code",
   "execution_count": null,
   "id": "29afd604",
   "metadata": {},
   "outputs": [],
   "source": []
  }
 ],
 "metadata": {
  "kernelspec": {
   "display_name": "Python 3",
   "language": "python",
   "name": "python3"
  },
  "language_info": {
   "codemirror_mode": {
    "name": "ipython",
    "version": 3
   },
   "file_extension": ".py",
   "mimetype": "text/x-python",
   "name": "python",
   "nbconvert_exporter": "python",
   "pygments_lexer": "ipython3",
   "version": "3.8.8"
  }
 },
 "nbformat": 4,
 "nbformat_minor": 5
}
